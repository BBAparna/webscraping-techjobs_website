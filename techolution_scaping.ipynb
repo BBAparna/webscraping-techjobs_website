{
 "cells": [
  {
   "cell_type": "code",
   "execution_count": 2,
   "metadata": {},
   "outputs": [],
   "source": [
    "import time\n",
    "import pandas as pd  \n",
    "import dateparser\n",
    "from selenium import webdriver"
   ]
  },
  {
   "cell_type": "code",
   "execution_count": 3,
   "metadata": {},
   "outputs": [],
   "source": [
    "#!pip install dateparser"
   ]
  },
  {
   "cell_type": "code",
   "execution_count": null,
   "metadata": {},
   "outputs": [],
   "source": [
    "# specifies the path to the chromedriver.exe\n",
    "#browser = webdriver.Chrome(executable_path='C:\\Program Files (x86)\\Google\\Chrome\\Application\\chromedriver.exe')"
   ]
  },
  {
   "cell_type": "code",
   "execution_count": 4,
   "metadata": {},
   "outputs": [],
   "source": [
    "\n",
    "browser = webdriver.Chrome(executable_path='C:\\Program Files (x86)\\Google\\Chrome\\Application\\chromedriver.exe') #using chromedriver as webdriver\n",
    "browser.get('https://techolution.app.param.ai/jobs/') #opening target website\n",
    "time.sleep(5)\n",
    "path = browser.find_elements_by_xpath(\"//div[@class='ui bottom aligned grid']\") # finding element in source code\n",
    "name = [x.text for x in path] #storing important data from website\n",
    "file=pd.DataFrame({'rawdata':name}) #Creating a dataframe\n",
    "result=pd.DataFrame()   #Creating a dataframe\n",
    "result['Job']=file['rawdata'].apply(lambda x: x.split('\\n')[0]) #splitting a string to get data corresponding to the data field\n",
    "result['Type']=file['rawdata'].apply(lambda x: (x.split('\\n')[1]).split('·')[0])  #splitting a string to get data corresponding to the data field\n",
    "result['Location']=file['rawdata'].apply(lambda x: x.split('·')[1])  #splitting a string to get data corresponding to the data field\n",
    "result['Experience']=file['rawdata'].apply(lambda x: (x.split('\\n')[1]).split('·')[2]) #splitting a string to get data corresponding to the data field\n",
    "result['PostedOn']=file['rawdata'].apply(lambda x: x.split('\\n')[2])  #splitting a string to get data corresponding to the data field\n",
    "result['Pdate']=result['PostedOn'].apply(lambda x: dateparser.parse(x)) #Parsing exact date and time from website to effecienly sort the data \n",
    "result=result[['Job','Type','Location','Experience','PostedOn','Pdate']].sort_values('Pdate').reset_index(drop=True) #Sorting the list of data in decreasing order accoding to Posted date\n",
    "result[['Job','Type','Location','Experience','PostedOn']].to_csv(\"TecholutionCSV.csv\") #Saving the list of data in CSV file"
   ]
  },
  {
   "cell_type": "code",
   "execution_count": 6,
   "metadata": {},
   "outputs": [
    {
     "data": {
      "text/html": [
       "<div>\n",
       "<style scoped>\n",
       "    .dataframe tbody tr th:only-of-type {\n",
       "        vertical-align: middle;\n",
       "    }\n",
       "\n",
       "    .dataframe tbody tr th {\n",
       "        vertical-align: top;\n",
       "    }\n",
       "\n",
       "    .dataframe thead th {\n",
       "        text-align: right;\n",
       "    }\n",
       "</style>\n",
       "<table border=\"1\" class=\"dataframe\">\n",
       "  <thead>\n",
       "    <tr style=\"text-align: right;\">\n",
       "      <th></th>\n",
       "      <th>Job</th>\n",
       "      <th>Type</th>\n",
       "      <th>Location</th>\n",
       "      <th>Experience</th>\n",
       "      <th>PostedOn</th>\n",
       "      <th>Pdate</th>\n",
       "    </tr>\n",
       "  </thead>\n",
       "  <tbody>\n",
       "    <tr>\n",
       "      <th>0</th>\n",
       "      <td>Junior Cloud Native Developer</td>\n",
       "      <td>Full-time</td>\n",
       "      <td>Delaware</td>\n",
       "      <td>1 - 2 Years</td>\n",
       "      <td>3 months ago</td>\n",
       "      <td>2019-02-20 12:28:43.637043</td>\n",
       "    </tr>\n",
       "    <tr>\n",
       "      <th>1</th>\n",
       "      <td>Blockchain Developer</td>\n",
       "      <td>Full-time</td>\n",
       "      <td>Hyderabad</td>\n",
       "      <td>1 - 4 Years</td>\n",
       "      <td>3 months ago</td>\n",
       "      <td>2019-02-20 12:28:43.637043</td>\n",
       "    </tr>\n",
       "    <tr>\n",
       "      <th>2</th>\n",
       "      <td>Engineering Lead</td>\n",
       "      <td>Full-time</td>\n",
       "      <td>mauritius</td>\n",
       "      <td>7 - 18 Years</td>\n",
       "      <td>3 months ago</td>\n",
       "      <td>2019-02-20 12:28:43.652669</td>\n",
       "    </tr>\n",
       "    <tr>\n",
       "      <th>3</th>\n",
       "      <td>Sr SDET</td>\n",
       "      <td>Full-time</td>\n",
       "      <td>New York</td>\n",
       "      <td>3 - 10 Years</td>\n",
       "      <td>3 months ago</td>\n",
       "      <td>2019-02-20 12:28:43.652669</td>\n",
       "    </tr>\n",
       "    <tr>\n",
       "      <th>4</th>\n",
       "      <td>OSS DevOps Engineer</td>\n",
       "      <td>Full-time</td>\n",
       "      <td>Hyderabad</td>\n",
       "      <td>6 - 12 Years</td>\n",
       "      <td>3 months ago</td>\n",
       "      <td>2019-02-20 12:28:43.652669</td>\n",
       "    </tr>\n",
       "  </tbody>\n",
       "</table>\n",
       "</div>"
      ],
      "text/plain": [
       "                             Job        Type     Location     Experience  \\\n",
       "0  Junior Cloud Native Developer  Full-time     Delaware     1 - 2 Years   \n",
       "1           Blockchain Developer  Full-time    Hyderabad     1 - 4 Years   \n",
       "2               Engineering Lead  Full-time    mauritius    7 - 18 Years   \n",
       "3                        Sr SDET  Full-time     New York    3 - 10 Years   \n",
       "4            OSS DevOps Engineer  Full-time    Hyderabad    6 - 12 Years   \n",
       "\n",
       "       PostedOn                      Pdate  \n",
       "0  3 months ago 2019-02-20 12:28:43.637043  \n",
       "1  3 months ago 2019-02-20 12:28:43.637043  \n",
       "2  3 months ago 2019-02-20 12:28:43.652669  \n",
       "3  3 months ago 2019-02-20 12:28:43.652669  \n",
       "4  3 months ago 2019-02-20 12:28:43.652669  "
      ]
     },
     "execution_count": 6,
     "metadata": {},
     "output_type": "execute_result"
    }
   ],
   "source": [
    "result.head()"
   ]
  },
  {
   "cell_type": "code",
   "execution_count": null,
   "metadata": {},
   "outputs": [],
   "source": []
  }
 ],
 "metadata": {
  "kernelspec": {
   "display_name": "Python 3",
   "language": "python",
   "name": "python3"
  },
  "language_info": {
   "codemirror_mode": {
    "name": "ipython",
    "version": 3
   },
   "file_extension": ".py",
   "mimetype": "text/x-python",
   "name": "python",
   "nbconvert_exporter": "python",
   "pygments_lexer": "ipython3",
   "version": "3.6.5"
  }
 },
 "nbformat": 4,
 "nbformat_minor": 2
}
